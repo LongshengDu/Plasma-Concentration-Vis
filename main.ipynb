{
  "metadata": {
    "kernelspec": {
      "name": "python",
      "display_name": "Python (Pyodide)",
      "language": "python"
    },
    "language_info": {
      "codemirror_mode": {
        "name": "python",
        "version": 3
      },
      "file_extension": ".py",
      "mimetype": "text/x-python",
      "name": "python",
      "nbconvert_exporter": "python",
      "pygments_lexer": "ipython3",
      "version": "3.8"
    }
  },
  "nbformat_minor": 5,
  "nbformat": 4,
  "cells": [
    {
      "id": "3c485b58-d8a6-464d-8002-40372769e6b4",
      "cell_type": "code",
      "source": "%pip install -q ipywidgets",
      "metadata": {
        "trusted": true
      },
      "outputs": [],
      "execution_count": 2
    },
    {
      "id": "259436e4-7600-4fe2-8ff1-2375f2e8b3cc",
      "cell_type": "code",
      "source": "import numpy as np\nfrom matplotlib import pyplot as plt\nfrom scipy import integrate\nfrom scipy.stats import lognorm\nfrom scipy.optimize import fsolve\nfrom scipy.integrate import simpson\n\nfrom ipywidgets import interactive, fixed",
      "metadata": {
        "trusted": true
      },
      "outputs": [
        {
          "name": "stderr",
          "output_type": "stream",
          "text": "Matplotlib is building the font cache; this may take a moment.\n"
        }
      ],
      "execution_count": 3
    },
    {
      "id": "1799f11e-9d72-418d-a9aa-6b2b2f8ef081",
      "cell_type": "code",
      "source": "def adjust_bateman_param(Tmax, Cmax, T_half, m):\n    # Calculate elimination rate constant ke\n    ke = np.log(2) / T_half\n    ke_adj = ke * m  # Adjust ke based on metabolism rate\n\n    # Adjust Tmax based on metabolism rate\n    Tmax_adj = Tmax / m\n\n    # Adjust Cmax based on metabolism rate\n    Cmax_adj = Cmax / np.sqrt(m)\n\n    # Estimate absorption rate constant ka from Tmax and ke_adj\n    def equation(ka):\n        return (np.log(ka) - np.log(ke_adj)) / (ka - ke_adj) - Tmax_adj\n\n    ka_initial_guess = 0.1\n    ka_adj = fsolve(equation, ka_initial_guess, maxfev=10000)[0]  # Adjust ka based on metabolism rate\n\n    # Calculate adjusted half-life\n    T_half_adj = np.log(2) / ke_adj\n\n    # Calculate the constant A (proportionality constant) from Cmax_adj\n    A_adj = Cmax_adj / (np.exp(-ke_adj * Tmax_adj) - np.exp(-ka_adj * Tmax_adj))\n\n    return (Tmax_adj, Cmax_adj, T_half_adj, A_adj, ke_adj, ka_adj)\n",
      "metadata": {
        "trusted": true
      },
      "outputs": [],
      "execution_count": 4
    },
    {
      "id": "03493e61-40c4-4de2-99bc-a9ec772de443",
      "cell_type": "code",
      "source": "def float_to_time_str_5min(f):\n    total_minutes = int(round(f * 60 / 5) * 5)\n    hours = total_minutes // 60\n    minutes = total_minutes % 60\n    return f\"{hours:02d}:{minutes:02d}\"\n",
      "metadata": {
        "trusted": true
      },
      "outputs": [],
      "execution_count": 5
    },
    {
      "id": "9c07a5ba-baf8-4450-ab34-ed197a4a083b",
      "cell_type": "code",
      "source": "def solve_med(Tmax=2, Cmax=80, T_half=21, metabolism=0.75, dose_interval=6, dose_per_day=1, skip_after_period=0, days=1):\n    # Given parameters\n    # Tmax = 1  # hours\n    # Cmax = 100  # ng/mL\n    # Thalf = 5  # hours\n    # dose_interval = 24  # hours between doses\n    # num_doses = 14     # number of doses to simulate\n    first_dose_hour = 8\n\n    (Tmax, Cmax, T_half, A, ke, ka) = adjust_bateman_param(Tmax, Cmax, T_half, metabolism)\n\n    # Time points for plotting\n    total_time = 4 * T_half + 24 * days  # total simulation time\n    data_points = dose_per_day*days*1000\n    time = np.linspace(0, total_time, data_points)\n\n    # Bateman function for single dose at time t0\n    def bateman(t, t0=0):\n        dt = t - t0\n        dt = np.maximum(dt, 0)  # concentration is zero before dose\n        return A * (np.exp(-ke * dt) - np.exp(-ka * dt))\n\n    # Sum concentrations from multiple doses\n    concentration = np.zeros_like(time)\n    for d in range(days):\n        if d > 0 and skip_after_period > 0 and d % (skip_after_period+1) == skip_after_period: \n            continue\n        first_dose_time = 24 * d + first_dose_hour\n        for n in range(dose_per_day):\n            dose_time = n * dose_interval\n            assert dose_time <= 24\n            dose_time = first_dose_time + dose_time\n            concentration += bateman(time, t0=dose_time)\n\n    day_points_num = int(float(24 * days) / total_time * data_points)\n    avg_conc = np.average(concentration[0:day_points_num])\n\n    area = simpson(concentration, x=time)\n\n    max_conc = np.max(concentration)\n    Tmax_real = time[np.argmax(concentration)]\n\n    print(f\"Adjust for metabolism: Tmax={Tmax}, Cmax={Cmax}, T_half={T_half}\")\n    print(f\"Adjust for metabolism: A={A}, ke={ke}, ka={ka}\")\n    print(\"Average (ng/ml):\", avg_conc)\n    print(\"Average at Bedtime (ng/ml):\", avg_conc)\n    print(\"Plasma Volume AUC per Day (ng/ml):\", area/(total_time/24.0))\n\n    # Plotting\n    fig, ax = plt.subplots(figsize=(20, 12))\n\n    title_info = f\"{days}-Day Administration, {dose_per_day}-Time Daily Dosing Starts {float_to_time_str_5min(first_dose_hour)}\"\n    if dose_per_day > 1: \n        title_info += f\" with {dose_interval}-Hour Interval\"\n    if skip_after_period > 0 and d > skip_after_period: \n        title_info += f\", Skip for 1 Day After {skip_after_period}-Day Period\"\n\n    ax.plot(time, concentration, label='Plasma Concentration Level')\n    ax.set_xlabel('Time (hours)')\n    ax.set_ylabel('Plasma Concentration (ng/mL)')\n    ax.set_title('Plasma Concentration-Time Profile (Bateman Function)\\n' + title_info)\n\n    tick_positions = np.arange(0, total_time, 8)\n    tick_labels = [str(i//3) if i % 3 == 0 else '' for i in range(len(tick_positions))]\n\n    ax.set_xticks(tick_positions)\n    ax.set_xticklabels(tick_labels)\n    ax.set_xlabel('Days')\n    ax.margins(x=0)\n\n\n    if days == 1:\n        # Add text label left of the left edge of the horizontal line\n        # Get current x-axis limits\n        y_min, y_max = ax.get_ylim()\n        # Place text slightly left of the left edge of the horizontal line\n        y_text = y_min + (y_max - y_min) * 0.01  # 2% left of x_min\n        # Add horizontal line at overall max concentration\n        ax.axvline(x=Tmax_real, color='y', linestyle='--', linewidth=1.5, label='Tmax')\n        ax.text(\n            x=Tmax_real, y=y_text,\n            s=float_to_time_str_5min(Tmax_real),\n            color='y',\n            va='center',\n            ha='left',\n            fontsize=10,\n            bbox=dict(facecolor='white', alpha=0.9, edgecolor='none', pad=0)\n        )\n\n    # Add text label left of the left edge of the horizontal line\n    # Get current x-axis limits\n    x_min, x_max = ax.get_xlim()\n    # Place text slightly left of the left edge of the horizontal line\n    x_text = x_min + (x_max - x_min) * 0.005  # 2% left of x_min\n    # Add horizontal line at overall max concentration\n    max_label = 'Cmax' if dose_per_day == 1 and days == 1 else f'Max within {days}d'\n    ax.axhline(y=max_conc, color='red', linestyle='--', linewidth=1.5, label=max_label)\n    ax.text(\n        x=x_text, y=max_conc,\n        s=f'{max_conc:.2f}',\n        color='red',\n        va='center',\n        ha='left',\n        fontsize=10,\n        bbox=dict(facecolor='white', alpha=0.9, edgecolor='none', pad=0)\n    )\n\n\n    # Add text label left of the left edge of the horizontal line\n    # Get current x-axis limits\n    x_min, x_max = ax.get_xlim()\n    # Place text slightly left of the left edge of the horizontal line\n    x_text = x_min + (x_max - x_min) * 0.005  # 2% left of x_min\n    # Add horizontal line at overall max concentration\n    ax.axhline(y=avg_conc, color='g', linestyle='--', linewidth=1.5, label=f'Average within {days}d')\n    ax.text(\n        x=x_text, y=avg_conc,\n        s=f'{avg_conc:.2f}',\n        color='g',\n        va='center',\n        ha='left',\n        fontsize=10,\n        bbox=dict(facecolor='white', alpha=0.9, edgecolor='none', pad=0)\n    )\n\n    xgridlines = ax.get_xgridlines()\n    for i, gridline in enumerate(xgridlines):\n        if i % 3 == 0:\n            gridline.set_linewidth(1.5)\n        else:\n            gridline.set_linewidth(0.5)\n\n    ax.set_ylim(top=350)\n\n    ax.legend()\n    ax.grid(True)\n    plt.show()\n\n",
      "metadata": {
        "trusted": true
      },
      "outputs": [],
      "execution_count": 12
    },
    {
      "id": "0ab03f48-ef2c-4a81-9943-ed07714ce618",
      "cell_type": "code",
      "source": "w=interactive(solve_med,Tmax=(0.1,10),Cmax=(10.0,180), T_half=(1.0,30), metabolism=(0.50,2.00, 0.05), dose_interval=(0.5,16), dose_per_day=(1,24), skip_after_period = (0, 10), days = (1,56))\nw",
      "metadata": {
        "trusted": true
      },
      "outputs": [
        {
          "execution_count": 13,
          "output_type": "execute_result",
          "data": {
            "text/plain": "interactive(children=(FloatSlider(value=2.0, description='Tmax', max=10.0, min=0.1), FloatSlider(value=80.0, d…",
            "application/vnd.jupyter.widget-view+json": {
              "version_major": 2,
              "version_minor": 0,
              "model_id": "667db45798254e628e701bf2cf61e7a7"
            }
          },
          "metadata": {}
        }
      ],
      "execution_count": 13
    },
    {
      "id": "86476ccd-670e-4b90-9b4e-c1daaceee935",
      "cell_type": "markdown",
      "source": "# Bupropion Data\n\n| Type | Dose\\|mg | Cmax\\|ng/ml | Tmax\\|h | T_half\\|h |   Dosing  | Max\\|14d | Average\\|14d | Integral/d\\|14d |\n|:----:|:--------:|:-----------:|:-------:|:---------:|:---------:|:--------:|:------------:|:---------------:|\n|  IR  |   37.5   |      40     |   1.5   |     21    | 2/d, q.8h |    208   |      157     |       3178      |\n|  IR  |    75    |      80     |   1.5   |     21    |    1/d    |    226   |      159     |       3180      |\n|  IR  |    150   |     160     |   1.5   |     21    |    1/d    |    453   |      319     |       6361      |\n|  SR  |    100   |      85     |    3    |     21    |    1/d    |    224   |      178     |       3550      |\n|  SR  |    150   |     130     |    3    |     21    |    1/d    |    373   |      272     |       5430      |\n|  XL  |    150   |     120     |    5    |     21    |    1/d    |    353   |      267     |       5353      |\n|  XL  |    150   |     120     |    5    |     21    |    1/2d   |    218   |      138     |       2682      |\n|  XL  |    150   |     120     |    5    |     21    |    3/4d   |    318   |      211     |       4164      |",
      "metadata": {}
    },
    {
      "id": "d841d12e-95cf-40e5-a954-3fdedae42b77",
      "cell_type": "code",
      "source": "",
      "metadata": {
        "trusted": true
      },
      "outputs": [],
      "execution_count": null
    },
    {
      "id": "d1060420-9313-481b-92b4-c49893eb3955",
      "cell_type": "code",
      "source": "",
      "metadata": {
        "trusted": true
      },
      "outputs": [],
      "execution_count": null
    }
  ]
}
